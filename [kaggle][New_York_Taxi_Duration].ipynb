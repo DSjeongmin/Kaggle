{
  "nbformat": 4,
  "nbformat_minor": 0,
  "metadata": {
    "colab": {
      "name": "[kaggle][New York Taxi Duration].ipynb",
      "provenance": [],
      "mount_file_id": "152yp1b3yiZJcGAEnfi90Syz6aCV4VZOl",
      "authorship_tag": "ABX9TyNhsW0DCK6/ttgqnI+B/FXV",
      "include_colab_link": true
    },
    "kernelspec": {
      "name": "python3",
      "display_name": "Python 3"
    },
    "language_info": {
      "name": "python"
    },
    "accelerator": "GPU"
  },
  "cells": [
    {
      "cell_type": "markdown",
      "metadata": {
        "id": "view-in-github",
        "colab_type": "text"
      },
      "source": [
        "<a href=\"https://colab.research.google.com/github/DSjeongmin/Kaggle/blob/main/%5Bkaggle%5D%5BNew_York_Taxi_Duration%5D.ipynb\" target=\"_parent\"><img src=\"https://colab.research.google.com/assets/colab-badge.svg\" alt=\"Open In Colab\"/></a>"
      ]
    },
    {
      "cell_type": "markdown",
      "metadata": {
        "id": "Xa4Eor2sureP"
      },
      "source": [
        "EDA & FE"
      ]
    },
    {
      "cell_type": "markdown",
      "metadata": {
        "id": "O86dzzPpuuLs"
      },
      "source": [
        "Features\n",
        "* id -\t각 여행에 대한 식별자\n",
        "* vendor_id\t- 여행 기록과 관련된 제공자를 나타내는 코드\n",
        "* pickup_datetime -\t미터가 작동 된 날짜 및 시간\n",
        "* dropoff_datetime -\t미터가 작동되지 않는 날짜 및 시간\n",
        "* passenger_count -\t차량의 승객 수 (운전자 입력 값)\n",
        "* pickup_longitude -\t미터가 사용 된 경도\n",
        "* pickup_latitude -\t미터가 사용 된 위도\n",
        "* dropoff_longitude -\t미터가 사용 안 된 경도\n",
        "* dropoff_latitude -\t미터가 사용 안 된 위도\n",
        "* store_and_fwd_flag -\t이 플래그는 차량이 서버에 연결되어 있지 않기 때문에 공급 업체에 보내기 전에 여행 레코드가 차량 메모리에 보유되었는지 여부를 나타냅니다 (Y = 저장 및 전달, N = 저장 및 전달 여행이 아님).\n",
        "* trip_duration -\t여행 시간 (초)"
      ]
    },
    {
      "cell_type": "code",
      "metadata": {
        "id": "VmN0BOkYt8Vc"
      },
      "source": [
        "import numpy as np\n",
        "import pandas as pd \n",
        "import datetime as dt\n",
        "import seaborn as sns\n",
        "import matplotlib.pyplot as plt\n",
        "%matplotlib inline\n",
        "import warnings\n",
        "warnings.filterwarnings(\"ignore\")\n",
        "\n",
        "train = pd.read_csv(\"/content/drive/MyDrive/Kaggle/nyc-taxi-trip-duration/train.csv\")\n",
        "test = pd.read_csv(\"/content/drive/MyDrive/Kaggle/nyc-taxi-trip-duration/test.csv\")\n",
        "submission = pd.read_csv(\"/content/drive/MyDrive/Kaggle/nyc-taxi-trip-duration/sample_submission.csv\")"
      ],
      "execution_count": null,
      "outputs": []
    },
    {
      "cell_type": "code",
      "metadata": {
        "colab": {
          "base_uri": "https://localhost:8080/",
          "height": 215
        },
        "id": "8R-widqjxPps",
        "outputId": "54fe4a8c-2dea-421a-a77d-bd1d241e1f4b"
      },
      "source": [
        "train.head(3)"
      ],
      "execution_count": null,
      "outputs": [
        {
          "output_type": "execute_result",
          "data": {
            "text/html": [
              "<div>\n",
              "<style scoped>\n",
              "    .dataframe tbody tr th:only-of-type {\n",
              "        vertical-align: middle;\n",
              "    }\n",
              "\n",
              "    .dataframe tbody tr th {\n",
              "        vertical-align: top;\n",
              "    }\n",
              "\n",
              "    .dataframe thead th {\n",
              "        text-align: right;\n",
              "    }\n",
              "</style>\n",
              "<table border=\"1\" class=\"dataframe\">\n",
              "  <thead>\n",
              "    <tr style=\"text-align: right;\">\n",
              "      <th></th>\n",
              "      <th>id</th>\n",
              "      <th>vendor_id</th>\n",
              "      <th>pickup_datetime</th>\n",
              "      <th>dropoff_datetime</th>\n",
              "      <th>passenger_count</th>\n",
              "      <th>pickup_longitude</th>\n",
              "      <th>pickup_latitude</th>\n",
              "      <th>dropoff_longitude</th>\n",
              "      <th>dropoff_latitude</th>\n",
              "      <th>store_and_fwd_flag</th>\n",
              "      <th>trip_duration</th>\n",
              "    </tr>\n",
              "  </thead>\n",
              "  <tbody>\n",
              "    <tr>\n",
              "      <th>0</th>\n",
              "      <td>id2875421</td>\n",
              "      <td>2</td>\n",
              "      <td>2016-03-14 17:24:55</td>\n",
              "      <td>2016-03-14 17:32:30</td>\n",
              "      <td>1</td>\n",
              "      <td>-73.982155</td>\n",
              "      <td>40.767937</td>\n",
              "      <td>-73.964630</td>\n",
              "      <td>40.765602</td>\n",
              "      <td>N</td>\n",
              "      <td>455</td>\n",
              "    </tr>\n",
              "    <tr>\n",
              "      <th>1</th>\n",
              "      <td>id2377394</td>\n",
              "      <td>1</td>\n",
              "      <td>2016-06-12 00:43:35</td>\n",
              "      <td>2016-06-12 00:54:38</td>\n",
              "      <td>1</td>\n",
              "      <td>-73.980415</td>\n",
              "      <td>40.738564</td>\n",
              "      <td>-73.999481</td>\n",
              "      <td>40.731152</td>\n",
              "      <td>N</td>\n",
              "      <td>663</td>\n",
              "    </tr>\n",
              "    <tr>\n",
              "      <th>2</th>\n",
              "      <td>id3858529</td>\n",
              "      <td>2</td>\n",
              "      <td>2016-01-19 11:35:24</td>\n",
              "      <td>2016-01-19 12:10:48</td>\n",
              "      <td>1</td>\n",
              "      <td>-73.979027</td>\n",
              "      <td>40.763939</td>\n",
              "      <td>-74.005333</td>\n",
              "      <td>40.710087</td>\n",
              "      <td>N</td>\n",
              "      <td>2124</td>\n",
              "    </tr>\n",
              "  </tbody>\n",
              "</table>\n",
              "</div>"
            ],
            "text/plain": [
              "          id  vendor_id  ... store_and_fwd_flag trip_duration\n",
              "0  id2875421          2  ...                  N           455\n",
              "1  id2377394          1  ...                  N           663\n",
              "2  id3858529          2  ...                  N          2124\n",
              "\n",
              "[3 rows x 11 columns]"
            ]
          },
          "metadata": {},
          "execution_count": 2
        }
      ]
    },
    {
      "cell_type": "code",
      "metadata": {
        "colab": {
          "base_uri": "https://localhost:8080/",
          "height": 215
        },
        "id": "gb9CMsfrxtne",
        "outputId": "6c012ad2-8c88-4ca7-8551-6a4fcf8839e7"
      },
      "source": [
        "test.head(3)"
      ],
      "execution_count": null,
      "outputs": [
        {
          "output_type": "execute_result",
          "data": {
            "text/html": [
              "<div>\n",
              "<style scoped>\n",
              "    .dataframe tbody tr th:only-of-type {\n",
              "        vertical-align: middle;\n",
              "    }\n",
              "\n",
              "    .dataframe tbody tr th {\n",
              "        vertical-align: top;\n",
              "    }\n",
              "\n",
              "    .dataframe thead th {\n",
              "        text-align: right;\n",
              "    }\n",
              "</style>\n",
              "<table border=\"1\" class=\"dataframe\">\n",
              "  <thead>\n",
              "    <tr style=\"text-align: right;\">\n",
              "      <th></th>\n",
              "      <th>id</th>\n",
              "      <th>vendor_id</th>\n",
              "      <th>pickup_datetime</th>\n",
              "      <th>passenger_count</th>\n",
              "      <th>pickup_longitude</th>\n",
              "      <th>pickup_latitude</th>\n",
              "      <th>dropoff_longitude</th>\n",
              "      <th>dropoff_latitude</th>\n",
              "      <th>store_and_fwd_flag</th>\n",
              "    </tr>\n",
              "  </thead>\n",
              "  <tbody>\n",
              "    <tr>\n",
              "      <th>0</th>\n",
              "      <td>id3004672</td>\n",
              "      <td>1</td>\n",
              "      <td>2016-06-30 23:59:58</td>\n",
              "      <td>1</td>\n",
              "      <td>-73.988129</td>\n",
              "      <td>40.732029</td>\n",
              "      <td>-73.990173</td>\n",
              "      <td>40.756680</td>\n",
              "      <td>N</td>\n",
              "    </tr>\n",
              "    <tr>\n",
              "      <th>1</th>\n",
              "      <td>id3505355</td>\n",
              "      <td>1</td>\n",
              "      <td>2016-06-30 23:59:53</td>\n",
              "      <td>1</td>\n",
              "      <td>-73.964203</td>\n",
              "      <td>40.679993</td>\n",
              "      <td>-73.959808</td>\n",
              "      <td>40.655403</td>\n",
              "      <td>N</td>\n",
              "    </tr>\n",
              "    <tr>\n",
              "      <th>2</th>\n",
              "      <td>id1217141</td>\n",
              "      <td>1</td>\n",
              "      <td>2016-06-30 23:59:47</td>\n",
              "      <td>1</td>\n",
              "      <td>-73.997437</td>\n",
              "      <td>40.737583</td>\n",
              "      <td>-73.986160</td>\n",
              "      <td>40.729523</td>\n",
              "      <td>N</td>\n",
              "    </tr>\n",
              "  </tbody>\n",
              "</table>\n",
              "</div>"
            ],
            "text/plain": [
              "          id  vendor_id  ... dropoff_latitude  store_and_fwd_flag\n",
              "0  id3004672          1  ...        40.756680                   N\n",
              "1  id3505355          1  ...        40.655403                   N\n",
              "2  id1217141          1  ...        40.729523                   N\n",
              "\n",
              "[3 rows x 9 columns]"
            ]
          },
          "metadata": {},
          "execution_count": 3
        }
      ]
    },
    {
      "cell_type": "code",
      "metadata": {
        "colab": {
          "base_uri": "https://localhost:8080/"
        },
        "id": "dXsSaiQnxvYG",
        "outputId": "6b50f153-53b0-4802-bc83-aa934f2ce8fc"
      },
      "source": [
        "train.info()"
      ],
      "execution_count": null,
      "outputs": [
        {
          "output_type": "stream",
          "name": "stdout",
          "text": [
            "<class 'pandas.core.frame.DataFrame'>\n",
            "RangeIndex: 1458644 entries, 0 to 1458643\n",
            "Data columns (total 11 columns):\n",
            " #   Column              Non-Null Count    Dtype  \n",
            "---  ------              --------------    -----  \n",
            " 0   id                  1458644 non-null  object \n",
            " 1   vendor_id           1458644 non-null  int64  \n",
            " 2   pickup_datetime     1458644 non-null  object \n",
            " 3   dropoff_datetime    1458644 non-null  object \n",
            " 4   passenger_count     1458644 non-null  int64  \n",
            " 5   pickup_longitude    1458644 non-null  float64\n",
            " 6   pickup_latitude     1458644 non-null  float64\n",
            " 7   dropoff_longitude   1458644 non-null  float64\n",
            " 8   dropoff_latitude    1458644 non-null  float64\n",
            " 9   store_and_fwd_flag  1458644 non-null  object \n",
            " 10  trip_duration       1458644 non-null  int64  \n",
            "dtypes: float64(4), int64(3), object(4)\n",
            "memory usage: 122.4+ MB\n"
          ]
        }
      ]
    },
    {
      "cell_type": "code",
      "metadata": {
        "colab": {
          "base_uri": "https://localhost:8080/"
        },
        "id": "Orp1MEbWxv_F",
        "outputId": "f381ed7d-13ff-45c7-f361-e55635cbd2f1"
      },
      "source": [
        "test.info()"
      ],
      "execution_count": null,
      "outputs": [
        {
          "output_type": "stream",
          "name": "stdout",
          "text": [
            "<class 'pandas.core.frame.DataFrame'>\n",
            "RangeIndex: 625134 entries, 0 to 625133\n",
            "Data columns (total 9 columns):\n",
            " #   Column              Non-Null Count   Dtype  \n",
            "---  ------              --------------   -----  \n",
            " 0   id                  625134 non-null  object \n",
            " 1   vendor_id           625134 non-null  int64  \n",
            " 2   pickup_datetime     625134 non-null  object \n",
            " 3   passenger_count     625134 non-null  int64  \n",
            " 4   pickup_longitude    625134 non-null  float64\n",
            " 5   pickup_latitude     625134 non-null  float64\n",
            " 6   dropoff_longitude   625134 non-null  float64\n",
            " 7   dropoff_latitude    625134 non-null  float64\n",
            " 8   store_and_fwd_flag  625134 non-null  object \n",
            "dtypes: float64(4), int64(2), object(3)\n",
            "memory usage: 42.9+ MB\n"
          ]
        }
      ]
    },
    {
      "cell_type": "code",
      "metadata": {
        "colab": {
          "base_uri": "https://localhost:8080/"
        },
        "id": "ougEjaz7xwiV",
        "outputId": "5b574340-1d2c-453d-ab4f-f02040a3d545"
      },
      "source": [
        "train.isnull().sum()"
      ],
      "execution_count": null,
      "outputs": [
        {
          "output_type": "execute_result",
          "data": {
            "text/plain": [
              "id                    0\n",
              "vendor_id             0\n",
              "pickup_datetime       0\n",
              "dropoff_datetime      0\n",
              "passenger_count       0\n",
              "pickup_longitude      0\n",
              "pickup_latitude       0\n",
              "dropoff_longitude     0\n",
              "dropoff_latitude      0\n",
              "store_and_fwd_flag    0\n",
              "trip_duration         0\n",
              "dtype: int64"
            ]
          },
          "metadata": {},
          "execution_count": 6
        }
      ]
    },
    {
      "cell_type": "code",
      "metadata": {
        "colab": {
          "base_uri": "https://localhost:8080/"
        },
        "id": "LnvSYNPXxyYV",
        "outputId": "e48e1d51-4e5a-4f00-b0c3-d1ae21c91ecb"
      },
      "source": [
        "test.isnull().sum()"
      ],
      "execution_count": null,
      "outputs": [
        {
          "output_type": "execute_result",
          "data": {
            "text/plain": [
              "id                    0\n",
              "vendor_id             0\n",
              "pickup_datetime       0\n",
              "passenger_count       0\n",
              "pickup_longitude      0\n",
              "pickup_latitude       0\n",
              "dropoff_longitude     0\n",
              "dropoff_latitude      0\n",
              "store_and_fwd_flag    0\n",
              "dtype: int64"
            ]
          },
          "metadata": {},
          "execution_count": 7
        }
      ]
    },
    {
      "cell_type": "markdown",
      "metadata": {
        "id": "lyM-jFHqzASJ"
      },
      "source": [
        "* 타겟변수 확인"
      ]
    },
    {
      "cell_type": "code",
      "metadata": {
        "colab": {
          "base_uri": "https://localhost:8080/",
          "height": 307
        },
        "id": "c9GVmQ72xzn9",
        "outputId": "5469fd18-1471-47b1-bca6-49d08ac53c78"
      },
      "source": [
        "from scipy import stats\n",
        "\n",
        "plt.scatter(range(train.shape[0]),np.sort(train['trip_duration']))\n",
        "\n",
        "# 산점도 결과 이상치 존재하지 않음."
      ],
      "execution_count": null,
      "outputs": [
        {
          "output_type": "execute_result",
          "data": {
            "text/plain": [
              "<matplotlib.collections.PathCollection at 0x7f128a2a1250>"
            ]
          },
          "metadata": {},
          "execution_count": 8
        },
        {
          "output_type": "display_data",
          "data": {
            "image/png": "[encoded data removed]",
            "text/plain": [
              "<Figure size 432x288 with 1 Axes>"
            ]
          },
          "metadata": {
            "needs_background": "light"
          }
        }
      ]
    },
    {
      "cell_type": "code",
      "metadata": {
        "colab": {
          "base_uri": "https://localhost:8080/",
          "height": 307
        },
        "id": "__kjesvnzG5T",
        "outputId": "2f6a30cc-b049-4c67-dc51-cb0fa3ddb8f8"
      },
      "source": [
        "sns.distplot(train.trip_duration.values, kde=True)\n",
        "\n",
        "# 정규성을 띄지 않으므로 정규화가 필요하다고 판단."
      ],
      "execution_count": null,
      "outputs": [
        {
          "output_type": "execute_result",
          "data": {
            "text/plain": [
              "<matplotlib.axes._subplots.AxesSubplot at 0x7f128a22a5d0>"
            ]
          },
          "metadata": {},
          "execution_count": 9
        },
        {
          "output_type": "display_data",
          "data": {
            "image/png": "[encoded data removed]",
            "text/plain": [
              "<Figure size 432x288 with 1 Axes>"
            ]
          },
          "metadata": {
            "needs_background": "light"
          }
        }
      ]
    },
    {
      "cell_type": "code",
      "metadata": {
        "colab": {
          "base_uri": "https://localhost:8080/",
          "height": 284
        },
        "id": "Mqtdr4_j0ymE",
        "outputId": "1e7d0846-a23a-4c43-bbd4-4014ab3a62e6"
      },
      "source": [
        "sns.distplot(np.log1p(train.trip_duration.values), kde=True)\n",
        "\n",
        "# 정규화 후 정규성을 띄는 결과 파악 됨."
      ],
      "execution_count": null,
      "outputs": [
        {
          "output_type": "execute_result",
          "data": {
            "text/plain": [
              "<matplotlib.axes._subplots.AxesSubplot at 0x7f1289d15250>"
            ]
          },
          "metadata": {},
          "execution_count": 10
        },
        {
          "output_type": "display_data",
          "data": {
            "image/png": "[encoded data removed]",
            "text/plain": [
              "<Figure size 432x288 with 1 Axes>"
            ]
          },
          "metadata": {
            "needs_background": "light"
          }
        }
      ]
    },
    {
      "cell_type": "code",
      "metadata": {
        "id": "niyY1vYIFbUk"
      },
      "source": [
        "# 타겟변수 로그 변환\n",
        "train['trip_duration'] = np.log(train['trip_duration'].values)"
      ],
      "execution_count": null,
      "outputs": []
    },
    {
      "cell_type": "markdown",
      "metadata": {
        "id": "NaheDgIgHJ7T"
      },
      "source": [
        "* 데이터 합치기"
      ]
    },
    {
      "cell_type": "code",
      "metadata": {
        "colab": {
          "base_uri": "https://localhost:8080/"
        },
        "id": "WF-Eyp7QFw0g",
        "outputId": "7b37a8b4-c512-4a35-ae8e-de8363044be3"
      },
      "source": [
        "# 데이터 전처리의 편의를 위해 데이터 합침\n",
        "feature_names=list(test)\n",
        "df_train=train[feature_names]\n",
        "df=pd.concat((df_train, test))\n",
        "\n",
        "train.shape, test.shape, df.shape"
      ],
      "execution_count": null,
      "outputs": [
        {
          "output_type": "execute_result",
          "data": {
            "text/plain": [
              "((1458644, 11), (625134, 9), (2083778, 9))"
            ]
          },
          "metadata": {},
          "execution_count": 12
        }
      ]
    },
    {
      "cell_type": "code",
      "metadata": {
        "colab": {
          "base_uri": "https://localhost:8080/",
          "height": 215
        },
        "id": "sX8cy-MhHRhs",
        "outputId": "d728c100-8a92-485c-ed02-8b4af2665436"
      },
      "source": [
        "df.head(3)"
      ],
      "execution_count": null,
      "outputs": [
        {
          "output_type": "execute_result",
          "data": {
            "text/html": [
              "<div>\n",
              "<style scoped>\n",
              "    .dataframe tbody tr th:only-of-type {\n",
              "        vertical-align: middle;\n",
              "    }\n",
              "\n",
              "    .dataframe tbody tr th {\n",
              "        vertical-align: top;\n",
              "    }\n",
              "\n",
              "    .dataframe thead th {\n",
              "        text-align: right;\n",
              "    }\n",
              "</style>\n",
              "<table border=\"1\" class=\"dataframe\">\n",
              "  <thead>\n",
              "    <tr style=\"text-align: right;\">\n",
              "      <th></th>\n",
              "      <th>id</th>\n",
              "      <th>vendor_id</th>\n",
              "      <th>pickup_datetime</th>\n",
              "      <th>passenger_count</th>\n",
              "      <th>pickup_longitude</th>\n",
              "      <th>pickup_latitude</th>\n",
              "      <th>dropoff_longitude</th>\n",
              "      <th>dropoff_latitude</th>\n",
              "      <th>store_and_fwd_flag</th>\n",
              "    </tr>\n",
              "  </thead>\n",
              "  <tbody>\n",
              "    <tr>\n",
              "      <th>0</th>\n",
              "      <td>id2875421</td>\n",
              "      <td>2</td>\n",
              "      <td>2016-03-14 17:24:55</td>\n",
              "      <td>1</td>\n",
              "      <td>-73.982155</td>\n",
              "      <td>40.767937</td>\n",
              "      <td>-73.964630</td>\n",
              "      <td>40.765602</td>\n",
              "      <td>N</td>\n",
              "    </tr>\n",
              "    <tr>\n",
              "      <th>1</th>\n",
              "      <td>id2377394</td>\n",
              "      <td>1</td>\n",
              "      <td>2016-06-12 00:43:35</td>\n",
              "      <td>1</td>\n",
              "      <td>-73.980415</td>\n",
              "      <td>40.738564</td>\n",
              "      <td>-73.999481</td>\n",
              "      <td>40.731152</td>\n",
              "      <td>N</td>\n",
              "    </tr>\n",
              "    <tr>\n",
              "      <th>2</th>\n",
              "      <td>id3858529</td>\n",
              "      <td>2</td>\n",
              "      <td>2016-01-19 11:35:24</td>\n",
              "      <td>1</td>\n",
              "      <td>-73.979027</td>\n",
              "      <td>40.763939</td>\n",
              "      <td>-74.005333</td>\n",
              "      <td>40.710087</td>\n",
              "      <td>N</td>\n",
              "    </tr>\n",
              "  </tbody>\n",
              "</table>\n",
              "</div>"
            ],
            "text/plain": [
              "          id  vendor_id  ... dropoff_latitude  store_and_fwd_flag\n",
              "0  id2875421          2  ...        40.765602                   N\n",
              "1  id2377394          1  ...        40.731152                   N\n",
              "2  id3858529          2  ...        40.710087                   N\n",
              "\n",
              "[3 rows x 9 columns]"
            ]
          },
          "metadata": {},
          "execution_count": 13
        }
      ]
    },
    {
      "cell_type": "markdown",
      "metadata": {
        "id": "XRL49-dRHf9g"
      },
      "source": [
        "* 날짜 변수"
      ]
    },
    {
      "cell_type": "code",
      "metadata": {
        "id": "8SJCpKzoHdlU"
      },
      "source": [
        "df['pickup_datetime'] = pd.to_datetime(df['pickup_datetime'])\n",
        "\n",
        "df['month'] = df['pickup_datetime'].dt.month\n",
        "df['day'] = df['pickup_datetime'].dt.day\n",
        "df['weekday'] = df['pickup_datetime'].dt.weekday\n",
        "df['hour'] = df['pickup_datetime'].dt.hour\n",
        "df['dayofweek'] = df['pickup_datetime'].dt.dayofweek\n",
        "\n",
        "df.drop(['pickup_datetime'], axis=1, inplace=True)"
      ],
      "execution_count": null,
      "outputs": []
    },
    {
      "cell_type": "code",
      "metadata": {
        "colab": {
          "base_uri": "https://localhost:8080/",
          "height": 522
        },
        "id": "RzoYVp1yHsAF",
        "outputId": "dbece74d-71ef-48ec-cfc7-a665f8933658"
      },
      "source": [
        "figure, axs = plt.subplots(3,2,figsize=(15,10))\n",
        "\n",
        "sns.countplot(data=df, x='month', ax=axs[0][0])\n",
        "sns.countplot(data=df, x='day',  ax=axs[0][1])\n",
        "sns.countplot(data=df, x='weekday',  ax=axs[1][0])\n",
        "sns.countplot(data=df, x='hour', ax=axs[1][1])\n",
        "sns.countplot(data=df, x='dayofweek',  ax=axs[2][0])\n",
        "\n",
        "# 픽업이 새벽에는 매우 낮고 6시~8시 사이에 제일 높은것을 알 수 있다\n",
        "# 픽업이 월요일에 제일 낮은것을 볼 수 있다."
      ],
      "execution_count": null,
      "outputs": [
        {
          "output_type": "execute_result",
          "data": {
            "text/plain": [
              "<matplotlib.axes._subplots.AxesSubplot at 0x7f127e06d0d0>"
            ]
          },
          "metadata": {},
          "execution_count": 15
        },
        {
          "output_type": "display_data",
          "data": {
            "image/png": "[encoded data removed]",
            "text/plain": [
              "<Figure size 1080x720 with 6 Axes>"
            ]
          },
          "metadata": {
            "needs_background": "light"
          }
        }
      ]
    },
    {
      "cell_type": "markdown",
      "metadata": {
        "id": "0xkKUNI0Lvvi"
      },
      "source": [
        "* 거리변수"
      ]
    },
    {
      "cell_type": "code",
      "metadata": {
        "id": "650dSvBgLOO7"
      },
      "source": [
        "df['dist_long'] = df['pickup_longitude'] - df['dropoff_longitude']\n",
        "df['dist_lat'] = df['pickup_latitude'] - df['dropoff_latitude']"
      ],
      "execution_count": null,
      "outputs": []
    },
    {
      "cell_type": "code",
      "metadata": {
        "id": "hYLOOjx5MNnK"
      },
      "source": [
        "# 미터기가 시작되고 끝난 각각의 경도 위도만큼 빼준다음에 총 합계를 구해서 \n",
        "# 새로운 파생변수를 만들었다\n",
        "\n",
        "df['dist'] = np.sqrt(np.square(df['dist_long']) + np.square(df['dist_lat']))"
      ],
      "execution_count": null,
      "outputs": []
    },
    {
      "cell_type": "markdown",
      "metadata": {
        "id": "ZZAya-U4UUdC"
      },
      "source": [
        "![image.png](data:image/png;base64,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)"
      ]
    },
    {
      "cell_type": "code",
      "metadata": {
        "id": "fs2LXJR_MUMa"
      },
      "source": [
        "def ft_haversine_distance(lat1, lng1, lat2, lng2):\n",
        "    lat1, lng1, lat2, lng2 = map(np.radians, (lat1, lng1, lat2, lng2))\n",
        "    AVG_EARTH_RADIUS = 6371 #km\n",
        "    lat = lat2 - lat1\n",
        "    lng = lng2 - lng1\n",
        "    d = np.sin(lat * 0.5) ** 2 + np.cos(lat1) * np.cos(lat2) * np.sin(lng * 0.5) ** 2\n",
        "    h = 2 * AVG_EARTH_RADIUS * np.arcsin(np.sqrt(d))\n",
        "    return h\n",
        "\n",
        "# 두 위도와 경도 사이의 거리를 구하는 공식으로 하버사인 공식을 사용해서 거리 피처를 구해줍니다.\n",
        "df['distance'] = ft_haversine_distance(df['pickup_latitude'].values,\n",
        "                                       df['pickup_longitude'].values, \n",
        "                                       df['dropoff_latitude'].values,\n",
        "                                       df['dropoff_longitude'].values)"
      ],
      "execution_count": null,
      "outputs": []
    },
    {
      "cell_type": "code",
      "metadata": {
        "colab": {
          "base_uri": "https://localhost:8080/",
          "height": 284
        },
        "id": "WrSZJOcPUiD-",
        "outputId": "df85a3ae-7ac0-40f9-a2e0-e9f17830900d"
      },
      "source": [
        "# 이상치가 존재하지만 대체를 하지 않음\n",
        "#(거리상 멀다고 나온 수치로 의미있는 수치라고 판단하고 분석)\n",
        "df.boxplot(column='distance')"
      ],
      "execution_count": null,
      "outputs": [
        {
          "output_type": "execute_result",
          "data": {
            "text/plain": [
              "<matplotlib.axes._subplots.AxesSubplot at 0x7f127dcb14d0>"
            ]
          },
          "metadata": {},
          "execution_count": 19
        },
        {
          "output_type": "display_data",
          "data": {
            "image/png": "[encoded data removed]",
            "text/plain": [
              "<Figure size 432x288 with 1 Axes>"
            ]
          },
          "metadata": {
            "needs_background": "light"
          }
        }
      ]
    },
    {
      "cell_type": "code",
      "metadata": {
        "colab": {
          "base_uri": "https://localhost:8080/"
        },
        "id": "ACi8mvOEBkSf",
        "outputId": "a3d6b2d6-d857-4989-b98e-d98c1e31de0c"
      },
      "source": [
        "df['distance'].describe()"
      ],
      "execution_count": null,
      "outputs": [
        {
          "output_type": "execute_result",
          "data": {
            "text/plain": [
              "count    2.083778e+06\n",
              "mean     3.438628e+00\n",
              "std      4.289263e+00\n",
              "min      0.000000e+00\n",
              "25%      1.231865e+00\n",
              "50%      2.093730e+00\n",
              "75%      3.877528e+00\n",
              "max      1.240909e+03\n",
              "Name: distance, dtype: float64"
            ]
          },
          "metadata": {},
          "execution_count": 24
        }
      ]
    },
    {
      "cell_type": "code",
      "metadata": {
        "colab": {
          "base_uri": "https://localhost:8080/",
          "height": 164
        },
        "id": "9Hmmo2ARBJOY",
        "outputId": "1e66dd48-64ae-4c51-d8fe-4c5ba24b9694"
      },
      "source": [
        "df[df['distance']>800]"
      ],
      "execution_count": null,
      "outputs": [
        {
          "output_type": "execute_result",
          "data": {
            "text/html": [
              "<div>\n",
              "<style scoped>\n",
              "    .dataframe tbody tr th:only-of-type {\n",
              "        vertical-align: middle;\n",
              "    }\n",
              "\n",
              "    .dataframe tbody tr th {\n",
              "        vertical-align: top;\n",
              "    }\n",
              "\n",
              "    .dataframe thead th {\n",
              "        text-align: right;\n",
              "    }\n",
              "</style>\n",
              "<table border=\"1\" class=\"dataframe\">\n",
              "  <thead>\n",
              "    <tr style=\"text-align: right;\">\n",
              "      <th></th>\n",
              "      <th>id</th>\n",
              "      <th>vendor_id</th>\n",
              "      <th>passenger_count</th>\n",
              "      <th>pickup_longitude</th>\n",
              "      <th>pickup_latitude</th>\n",
              "      <th>dropoff_longitude</th>\n",
              "      <th>dropoff_latitude</th>\n",
              "      <th>store_and_fwd_flag</th>\n",
              "      <th>month</th>\n",
              "      <th>day</th>\n",
              "      <th>weekday</th>\n",
              "      <th>hour</th>\n",
              "      <th>dayofweek</th>\n",
              "      <th>dist_long</th>\n",
              "      <th>dist_lat</th>\n",
              "      <th>dist</th>\n",
              "      <th>distance</th>\n",
              "    </tr>\n",
              "  </thead>\n",
              "  <tbody>\n",
              "    <tr>\n",
              "      <th>184925</th>\n",
              "      <td>id2306955</td>\n",
              "      <td>1</td>\n",
              "      <td>1</td>\n",
              "      <td>-72.809669</td>\n",
              "      <td>51.881084</td>\n",
              "      <td>-73.987228</td>\n",
              "      <td>40.750599</td>\n",
              "      <td>N</td>\n",
              "      <td>5</td>\n",
              "      <td>7</td>\n",
              "      <td>5</td>\n",
              "      <td>18</td>\n",
              "      <td>5</td>\n",
              "      <td>1.177559</td>\n",
              "      <td>11.130486</td>\n",
              "      <td>11.192603</td>\n",
              "      <td>1240.908677</td>\n",
              "    </tr>\n",
              "    <tr>\n",
              "      <th>974378</th>\n",
              "      <td>id1510552</td>\n",
              "      <td>2</td>\n",
              "      <td>5</td>\n",
              "      <td>-71.799896</td>\n",
              "      <td>35.081532</td>\n",
              "      <td>-79.352837</td>\n",
              "      <td>40.436329</td>\n",
              "      <td>N</td>\n",
              "      <td>1</td>\n",
              "      <td>6</td>\n",
              "      <td>2</td>\n",
              "      <td>20</td>\n",
              "      <td>2</td>\n",
              "      <td>7.552940</td>\n",
              "      <td>-5.354797</td>\n",
              "      <td>9.258551</td>\n",
              "      <td>891.214103</td>\n",
              "    </tr>\n",
              "    <tr>\n",
              "      <th>512346</th>\n",
              "      <td>id2776665</td>\n",
              "      <td>1</td>\n",
              "      <td>1</td>\n",
              "      <td>-73.981995</td>\n",
              "      <td>40.746468</td>\n",
              "      <td>-67.496796</td>\n",
              "      <td>48.857597</td>\n",
              "      <td>N</td>\n",
              "      <td>2</td>\n",
              "      <td>5</td>\n",
              "      <td>4</td>\n",
              "      <td>15</td>\n",
              "      <td>4</td>\n",
              "      <td>-6.485199</td>\n",
              "      <td>-8.111130</td>\n",
              "      <td>10.385000</td>\n",
              "      <td>1036.043469</td>\n",
              "    </tr>\n",
              "  </tbody>\n",
              "</table>\n",
              "</div>"
            ],
            "text/plain": [
              "               id  vendor_id  ...       dist     distance\n",
              "184925  id2306955          1  ...  11.192603  1240.908677\n",
              "974378  id1510552          2  ...   9.258551   891.214103\n",
              "512346  id2776665          1  ...  10.385000  1036.043469\n",
              "\n",
              "[3 rows x 17 columns]"
            ]
          },
          "metadata": {},
          "execution_count": 21
        }
      ]
    },
    {
      "cell_type": "code",
      "metadata": {
        "colab": {
          "base_uri": "https://localhost:8080/",
          "height": 298
        },
        "id": "XusMEPFRUyFm",
        "outputId": "4ba7c8f8-2cac-4154-b34c-d928c163c702"
      },
      "source": [
        "g_vendor = train.groupby('vendor_id')['trip_duration'].mean()\n",
        "sns.barplot(g_vendor.index,g_vendor.values)\n",
        "\n",
        "# 공급업체 별로 그룹바이를 한 상태에서 타겟변수를 확인해본 결과 별 차이는 없는것같다"
      ],
      "execution_count": null,
      "outputs": [
        {
          "output_type": "execute_result",
          "data": {
            "text/plain": [
              "<matplotlib.axes._subplots.AxesSubplot at 0x7f12790bb590>"
            ]
          },
          "metadata": {},
          "execution_count": 25
        },
        {
          "output_type": "display_data",
          "data": {
            "image/png": "[encoded data removed]",
            "text/plain": [
              "<Figure size 432x288 with 1 Axes>"
            ]
          },
          "metadata": {
            "needs_background": "light"
          }
        }
      ]
    },
    {
      "cell_type": "code",
      "metadata": {
        "colab": {
          "base_uri": "https://localhost:8080/",
          "height": 298
        },
        "id": "-AGimIkHU5Ud",
        "outputId": "5adf342d-6424-4eaa-8963-e859d1738478"
      },
      "source": [
        "sfflag = train.groupby('store_and_fwd_flag')['trip_duration'].mean()\n",
        "sns.barplot(sfflag.index,sfflag.values)\n",
        "\n",
        "# 'store_and_fwd_flag'는 여행 시간을 잘 구별하는 것처럼 보인다"
      ],
      "execution_count": null,
      "outputs": [
        {
          "output_type": "execute_result",
          "data": {
            "text/plain": [
              "<matplotlib.axes._subplots.AxesSubplot at 0x7f1279096650>"
            ]
          },
          "metadata": {},
          "execution_count": 26
        },
        {
          "output_type": "display_data",
          "data": {
            "image/png": "[encoded data removed]",
            "text/plain": [
              "<Figure size 432x288 with 1 Axes>"
            ]
          },
          "metadata": {
            "needs_background": "light"
          }
        }
      ]
    },
    {
      "cell_type": "code",
      "metadata": {
        "colab": {
          "base_uri": "https://localhost:8080/",
          "height": 298
        },
        "id": "ZSPmbl9XVBX-",
        "outputId": "92cf22ad-6aee-44ce-91c2-bbf39842ba25"
      },
      "source": [
        "pc = train.groupby('passenger_count')['trip_duration'].mean()\n",
        "sns.barplot(pc.index,pc.values)"
      ],
      "execution_count": null,
      "outputs": [
        {
          "output_type": "execute_result",
          "data": {
            "text/plain": [
              "<matplotlib.axes._subplots.AxesSubplot at 0x7f1278ff3e50>"
            ]
          },
          "metadata": {},
          "execution_count": 27
        },
        {
          "output_type": "display_data",
          "data": {
            "image/png": "[encoded data removed]",
            "text/plain": [
              "<Figure size 432x288 with 1 Axes>"
            ]
          },
          "metadata": {
            "needs_background": "light"
          }
        }
      ]
    },
    {
      "cell_type": "markdown",
      "metadata": {
        "id": "H4j3uWZAVq4Q"
      },
      "source": [
        "* 범주형 변수 원핫 인코딩"
      ]
    },
    {
      "cell_type": "code",
      "metadata": {
        "id": "VanupLSwVoct"
      },
      "source": [
        "df = pd.concat([df, pd.get_dummies(df['store_and_fwd_flag'],prefix = 'store')], axis=1)\n",
        "df.drop(['store_and_fwd_flag'], axis=1, inplace=True)\n",
        "\n",
        "df = pd.concat([df, pd.get_dummies(df['vendor_id'],prefix = 'vendor')], axis=1)\n",
        "df.drop(['vendor_id'], axis=1, inplace=True)"
      ],
      "execution_count": null,
      "outputs": []
    },
    {
      "cell_type": "code",
      "metadata": {
        "colab": {
          "base_uri": "https://localhost:8080/",
          "height": 164
        },
        "id": "cVOs1ZkCVtOG",
        "outputId": "b690561c-975e-4c74-8936-b85058e3478e"
      },
      "source": [
        "df.head(3)"
      ],
      "execution_count": null,
      "outputs": [
        {
          "output_type": "execute_result",
          "data": {
            "text/html": [
              "<div>\n",
              "<style scoped>\n",
              "    .dataframe tbody tr th:only-of-type {\n",
              "        vertical-align: middle;\n",
              "    }\n",
              "\n",
              "    .dataframe tbody tr th {\n",
              "        vertical-align: top;\n",
              "    }\n",
              "\n",
              "    .dataframe thead th {\n",
              "        text-align: right;\n",
              "    }\n",
              "</style>\n",
              "<table border=\"1\" class=\"dataframe\">\n",
              "  <thead>\n",
              "    <tr style=\"text-align: right;\">\n",
              "      <th></th>\n",
              "      <th>id</th>\n",
              "      <th>passenger_count</th>\n",
              "      <th>pickup_longitude</th>\n",
              "      <th>pickup_latitude</th>\n",
              "      <th>dropoff_longitude</th>\n",
              "      <th>dropoff_latitude</th>\n",
              "      <th>month</th>\n",
              "      <th>day</th>\n",
              "      <th>weekday</th>\n",
              "      <th>hour</th>\n",
              "      <th>dayofweek</th>\n",
              "      <th>dist_long</th>\n",
              "      <th>dist_lat</th>\n",
              "      <th>dist</th>\n",
              "      <th>distance</th>\n",
              "      <th>store_N</th>\n",
              "      <th>store_Y</th>\n",
              "      <th>vendor_1</th>\n",
              "      <th>vendor_2</th>\n",
              "    </tr>\n",
              "  </thead>\n",
              "  <tbody>\n",
              "    <tr>\n",
              "      <th>0</th>\n",
              "      <td>id2875421</td>\n",
              "      <td>1</td>\n",
              "      <td>-73.982155</td>\n",
              "      <td>40.767937</td>\n",
              "      <td>-73.964630</td>\n",
              "      <td>40.765602</td>\n",
              "      <td>3</td>\n",
              "      <td>14</td>\n",
              "      <td>0</td>\n",
              "      <td>17</td>\n",
              "      <td>0</td>\n",
              "      <td>-0.017525</td>\n",
              "      <td>0.002335</td>\n",
              "      <td>0.017680</td>\n",
              "      <td>1.498521</td>\n",
              "      <td>1</td>\n",
              "      <td>0</td>\n",
              "      <td>0</td>\n",
              "      <td>1</td>\n",
              "    </tr>\n",
              "    <tr>\n",
              "      <th>1</th>\n",
              "      <td>id2377394</td>\n",
              "      <td>1</td>\n",
              "      <td>-73.980415</td>\n",
              "      <td>40.738564</td>\n",
              "      <td>-73.999481</td>\n",
              "      <td>40.731152</td>\n",
              "      <td>6</td>\n",
              "      <td>12</td>\n",
              "      <td>6</td>\n",
              "      <td>0</td>\n",
              "      <td>6</td>\n",
              "      <td>0.019066</td>\n",
              "      <td>0.007412</td>\n",
              "      <td>0.020456</td>\n",
              "      <td>1.805507</td>\n",
              "      <td>1</td>\n",
              "      <td>0</td>\n",
              "      <td>1</td>\n",
              "      <td>0</td>\n",
              "    </tr>\n",
              "    <tr>\n",
              "      <th>2</th>\n",
              "      <td>id3858529</td>\n",
              "      <td>1</td>\n",
              "      <td>-73.979027</td>\n",
              "      <td>40.763939</td>\n",
              "      <td>-74.005333</td>\n",
              "      <td>40.710087</td>\n",
              "      <td>1</td>\n",
              "      <td>19</td>\n",
              "      <td>1</td>\n",
              "      <td>11</td>\n",
              "      <td>1</td>\n",
              "      <td>0.026306</td>\n",
              "      <td>0.053852</td>\n",
              "      <td>0.059934</td>\n",
              "      <td>6.385098</td>\n",
              "      <td>1</td>\n",
              "      <td>0</td>\n",
              "      <td>0</td>\n",
              "      <td>1</td>\n",
              "    </tr>\n",
              "  </tbody>\n",
              "</table>\n",
              "</div>"
            ],
            "text/plain": [
              "          id  passenger_count  pickup_longitude  ...  store_Y  vendor_1  vendor_2\n",
              "0  id2875421                1        -73.982155  ...        0         0         1\n",
              "1  id2377394                1        -73.980415  ...        0         1         0\n",
              "2  id3858529                1        -73.979027  ...        0         0         1\n",
              "\n",
              "[3 rows x 19 columns]"
            ]
          },
          "metadata": {},
          "execution_count": 29
        }
      ]
    },
    {
      "cell_type": "markdown",
      "metadata": {
        "id": "e8v2VBfgV2Ft"
      },
      "source": [
        "* 상관 관계"
      ]
    },
    {
      "cell_type": "code",
      "metadata": {
        "colab": {
          "base_uri": "https://localhost:8080/",
          "height": 680
        },
        "id": "7exRTA3xVvBV",
        "outputId": "94edde32-534a-4aaf-ada3-8d9ee636bc41"
      },
      "source": [
        "cor = df.corr()\n",
        "mask = np.array(cor)\n",
        "mask[np.tril_indices_from(mask)] = False\n",
        "fig,ax= plt.subplots()\n",
        "fig.set_size_inches(20,10)\n",
        "sns.heatmap(cor,mask= mask,square=True,annot=True)"
      ],
      "execution_count": null,
      "outputs": [
        {
          "output_type": "execute_result",
          "data": {
            "text/plain": [
              "<matplotlib.axes._subplots.AxesSubplot at 0x7f1278f45d10>"
            ]
          },
          "metadata": {},
          "execution_count": 30
        },
        {
          "output_type": "display_data",
          "data": {
            "image/png": "[encoded data removed]",
            "text/plain": [
              "<Figure size 1440x720 with 2 Axes>"
            ]
          },
          "metadata": {
            "needs_background": "light"
          }
        }
      ]
    },
    {
      "cell_type": "markdown",
      "metadata": {
        "id": "8eKYEYsWWF1_"
      },
      "source": [
        "모델링"
      ]
    },
    {
      "cell_type": "code",
      "metadata": {
        "id": "lo__XxCrWBBk"
      },
      "source": [
        "from sklearn.model_selection import train_test_split, GridSearchCV\n",
        "from sklearn.metrics import mean_squared_log_error\n",
        "from xgboost import XGBRegressor\n",
        "from lightgbm import LGBMRegressor\n",
        "from sklearn.linear_model import LinearRegression"
      ],
      "execution_count": null,
      "outputs": []
    },
    {
      "cell_type": "code",
      "metadata": {
        "colab": {
          "base_uri": "https://localhost:8080/"
        },
        "id": "Qwootcu2jdp8",
        "outputId": "9a131313-0c5c-40bf-c2cc-960ba055c939"
      },
      "source": [
        "train.shape, df.shape, df.shape[0] - train.shape[0]"
      ],
      "execution_count": null,
      "outputs": [
        {
          "output_type": "execute_result",
          "data": {
            "text/plain": [
              "((1458644, 11), (2083778, 19), 625134)"
            ]
          },
          "metadata": {},
          "execution_count": 32
        }
      ]
    },
    {
      "cell_type": "code",
      "metadata": {
        "colab": {
          "base_uri": "https://localhost:8080/"
        },
        "id": "kt_gAYYMWH6G",
        "outputId": "e9d35137-a70f-4407-fda7-41abb4648247"
      },
      "source": [
        "df.drop([\"id\"], axis=1, inplace=True)\n",
        "\n",
        "new_train = df[:train.shape[0]]\n",
        "new_test = df[train.shape[0]:]\n",
        "\n",
        "target = train['trip_duration']\n",
        "\n",
        "X_train, X_test, y_train, y_test = train_test_split(new_train, target, test_size=0.2, shuffle=True)\n",
        "\n",
        "X_train.shape, X_test.shape, y_train.shape, y_test.shape"
      ],
      "execution_count": null,
      "outputs": [
        {
          "output_type": "execute_result",
          "data": {
            "text/plain": [
              "((1166915, 18), (291729, 18), (1166915,), (291729,))"
            ]
          },
          "metadata": {},
          "execution_count": 33
        }
      ]
    },
    {
      "cell_type": "markdown",
      "metadata": {
        "id": "V9cDsnaJXHJ0"
      },
      "source": [
        "* RMSLE"
      ]
    },
    {
      "cell_type": "markdown",
      "metadata": {
        "id": "8lA0N3HjXS6n"
      },
      "source": [
        "![image.png](data:image/png;base64,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)"
      ]
    },
    {
      "cell_type": "code",
      "metadata": {
        "id": "ZpQxELWSWbk1"
      },
      "source": [
        "def rmsle_score(preds, true):\n",
        "    rmsle_score = (np.sum((np.log1p(preds)-np.log1p(true))**2)/len(true))**0.5\n",
        "    return rmsle_score"
      ],
      "execution_count": null,
      "outputs": []
    },
    {
      "cell_type": "code",
      "metadata": {
        "id": "iXzrxlrAXVrM"
      },
      "source": [
        "# 모델을 비교할때 평가치로 사용\n",
        "\n",
        "from sklearn.metrics.scorer import make_scorer\n",
        "\n",
        "RMSLE = make_scorer(rmsle_score)"
      ],
      "execution_count": null,
      "outputs": []
    },
    {
      "cell_type": "markdown",
      "metadata": {
        "id": "vQmLofXcYdwF"
      },
      "source": [
        "* 통계 확인"
      ]
    },
    {
      "cell_type": "code",
      "metadata": {
        "id": "WSdfMgJiXX1D"
      },
      "source": [
        "import statsmodels.api as sm\n",
        "\n",
        "model = sm.OLS(target.values, new_train.astype(float))"
      ],
      "execution_count": null,
      "outputs": []
    },
    {
      "cell_type": "code",
      "metadata": {
        "colab": {
          "base_uri": "https://localhost:8080/",
          "height": 821
        },
        "id": "9ZyfoGkZZNvi",
        "outputId": "a6b6ac7b-c62c-4c34-d907-064ccd6b781d"
      },
      "source": [
        "re = model.fit()\n",
        "re.summary()\n",
        "\n",
        "# 모델의 설명력이 0.338이며 각 피처의 p-value가 0.0000으로 유의수준 5%보다 낮았으며 \n",
        "# 다중공선성의 문제는 없는것으로 보인다"
      ],
      "execution_count": null,
      "outputs": [
        {
          "output_type": "execute_result",
          "data": {
            "text/html": [
              "<table class=\"simpletable\">\n",
              "<caption>OLS Regression Results</caption>\n",
              "<tr>\n",
              "  <th>Dep. Variable:</th>            <td>y</td>        <th>  R-squared:         </th>  <td>   0.338</td>  \n",
              "</tr>\n",
              "<tr>\n",
              "  <th>Model:</th>                   <td>OLS</td>       <th>  Adj. R-squared:    </th>  <td>   0.338</td>  \n",
              "</tr>\n",
              "<tr>\n",
              "  <th>Method:</th>             <td>Least Squares</td>  <th>  F-statistic:       </th>  <td>5.721e+04</td> \n",
              "</tr>\n",
              "<tr>\n",
              "  <th>Date:</th>             <td>Wed, 06 Oct 2021</td> <th>  Prob (F-statistic):</th>   <td>  0.00</td>   \n",
              "</tr>\n",
              "<tr>\n",
              "  <th>Time:</th>                 <td>00:52:13</td>     <th>  Log-Likelihood:    </th> <td>-1.4430e+06</td>\n",
              "</tr>\n",
              "<tr>\n",
              "  <th>No. Observations:</th>      <td>1458644</td>     <th>  AIC:               </th>  <td>2.886e+06</td> \n",
              "</tr>\n",
              "<tr>\n",
              "  <th>Df Residuals:</th>          <td>1458630</td>     <th>  BIC:               </th>  <td>2.886e+06</td> \n",
              "</tr>\n",
              "<tr>\n",
              "  <th>Df Model:</th>              <td>    13</td>      <th>                     </th>      <td> </td>     \n",
              "</tr>\n",
              "<tr>\n",
              "  <th>Covariance Type:</th>      <td>nonrobust</td>    <th>                     </th>      <td> </td>     \n",
              "</tr>\n",
              "</table>\n",
              "<table class=\"simpletable\">\n",
              "<tr>\n",
              "          <td></td>             <th>coef</th>     <th>std err</th>      <th>t</th>      <th>P>|t|</th>  <th>[0.025</th>    <th>0.975]</th>  \n",
              "</tr>\n",
              "<tr>\n",
              "  <th>passenger_count</th>   <td>    0.0074</td> <td>    0.000</td> <td>   17.165</td> <td> 0.000</td> <td>    0.007</td> <td>    0.008</td>\n",
              "</tr>\n",
              "<tr>\n",
              "  <th>pickup_longitude</th>  <td>   -0.4393</td> <td>    0.006</td> <td>  -74.171</td> <td> 0.000</td> <td>   -0.451</td> <td>   -0.428</td>\n",
              "</tr>\n",
              "<tr>\n",
              "  <th>pickup_latitude</th>   <td>   -0.4808</td> <td>    0.011</td> <td>  -42.122</td> <td> 0.000</td> <td>   -0.503</td> <td>   -0.458</td>\n",
              "</tr>\n",
              "<tr>\n",
              "  <th>dropoff_longitude</th> <td>    0.2161</td> <td>    0.006</td> <td>   38.047</td> <td> 0.000</td> <td>    0.205</td> <td>    0.227</td>\n",
              "</tr>\n",
              "<tr>\n",
              "  <th>dropoff_latitude</th>  <td>   -0.6385</td> <td>    0.010</td> <td>  -62.006</td> <td> 0.000</td> <td>   -0.659</td> <td>   -0.618</td>\n",
              "</tr>\n",
              "<tr>\n",
              "  <th>month</th>             <td>    0.0178</td> <td>    0.000</td> <td>   55.435</td> <td> 0.000</td> <td>    0.017</td> <td>    0.018</td>\n",
              "</tr>\n",
              "<tr>\n",
              "  <th>day</th>               <td>    0.0007</td> <td> 6.19e-05</td> <td>   10.729</td> <td> 0.000</td> <td>    0.001</td> <td>    0.001</td>\n",
              "</tr>\n",
              "<tr>\n",
              "  <th>weekday</th>           <td>   -0.0063</td> <td>    0.000</td> <td>  -45.347</td> <td> 0.000</td> <td>   -0.007</td> <td>   -0.006</td>\n",
              "</tr>\n",
              "<tr>\n",
              "  <th>hour</th>              <td>    0.0061</td> <td> 8.46e-05</td> <td>   72.132</td> <td> 0.000</td> <td>    0.006</td> <td>    0.006</td>\n",
              "</tr>\n",
              "<tr>\n",
              "  <th>dayofweek</th>         <td>   -0.0063</td> <td>    0.000</td> <td>  -45.347</td> <td> 0.000</td> <td>   -0.007</td> <td>   -0.006</td>\n",
              "</tr>\n",
              "<tr>\n",
              "  <th>dist_long</th>         <td>   -0.6554</td> <td>    0.008</td> <td>  -82.045</td> <td> 0.000</td> <td>   -0.671</td> <td>   -0.640</td>\n",
              "</tr>\n",
              "<tr>\n",
              "  <th>dist_lat</th>          <td>    0.1578</td> <td>    0.011</td> <td>   14.995</td> <td> 0.000</td> <td>    0.137</td> <td>    0.178</td>\n",
              "</tr>\n",
              "<tr>\n",
              "  <th>dist</th>              <td>   -0.9781</td> <td>    0.110</td> <td>   -8.894</td> <td> 0.000</td> <td>   -1.194</td> <td>   -0.763</td>\n",
              "</tr>\n",
              "<tr>\n",
              "  <th>distance</th>          <td>    0.1182</td> <td>    0.001</td> <td>  101.227</td> <td> 0.000</td> <td>    0.116</td> <td>    0.120</td>\n",
              "</tr>\n",
              "<tr>\n",
              "  <th>store_N</th>           <td>   17.5265</td> <td>    0.536</td> <td>   32.709</td> <td> 0.000</td> <td>   16.476</td> <td>   18.577</td>\n",
              "</tr>\n",
              "<tr>\n",
              "  <th>store_Y</th>           <td>   17.5372</td> <td>    0.536</td> <td>   32.730</td> <td> 0.000</td> <td>   16.487</td> <td>   18.587</td>\n",
              "</tr>\n",
              "<tr>\n",
              "  <th>vendor_1</th>          <td>   17.5219</td> <td>    0.536</td> <td>   32.701</td> <td> 0.000</td> <td>   16.472</td> <td>   18.572</td>\n",
              "</tr>\n",
              "<tr>\n",
              "  <th>vendor_2</th>          <td>   17.5418</td> <td>    0.536</td> <td>   32.738</td> <td> 0.000</td> <td>   16.492</td> <td>   18.592</td>\n",
              "</tr>\n",
              "</table>\n",
              "<table class=\"simpletable\">\n",
              "<tr>\n",
              "  <th>Omnibus:</th>       <td>2500235.096</td> <th>  Durbin-Watson:     </th>     <td>   2.001</td>    \n",
              "</tr>\n",
              "<tr>\n",
              "  <th>Prob(Omnibus):</th>   <td> 0.000</td>    <th>  Jarque-Bera (JB):  </th> <td>153025119387.090</td>\n",
              "</tr>\n",
              "<tr>\n",
              "  <th>Skew:</th>            <td>-10.420</td>   <th>  Prob(JB):          </th>     <td>    0.00</td>    \n",
              "</tr>\n",
              "<tr>\n",
              "  <th>Kurtosis:</th>       <td>1589.627</td>   <th>  Cond. No.          </th>     <td>6.01e+17</td>    \n",
              "</tr>\n",
              "</table><br/><br/>Warnings:<br/>[1] Standard Errors assume that the covariance matrix of the errors is correctly specified.<br/>[2] The smallest eigenvalue is 5.96e-26. This might indicate that there are<br/>strong multicollinearity problems or that the design matrix is singular."
            ],
            "text/plain": [
              "<class 'statsmodels.iolib.summary.Summary'>\n",
              "\"\"\"\n",
              "                            OLS Regression Results                            \n",
              "==============================================================================\n",
              "Dep. Variable:                      y   R-squared:                       0.338\n",
              "Model:                            OLS   Adj. R-squared:                  0.338\n",
              "Method:                 Least Squares   F-statistic:                 5.721e+04\n",
              "Date:                Wed, 06 Oct 2021   Prob (F-statistic):               0.00\n",
              "Time:                        00:52:13   Log-Likelihood:            -1.4430e+06\n",
              "No. Observations:             1458644   AIC:                         2.886e+06\n",
              "Df Residuals:                 1458630   BIC:                         2.886e+06\n",
              "Df Model:                          13                                         \n",
              "Covariance Type:            nonrobust                                         \n",
              "=====================================================================================\n",
              "                        coef    std err          t      P>|t|      [0.025      0.975]\n",
              "-------------------------------------------------------------------------------------\n",
              "passenger_count       0.0074      0.000     17.165      0.000       0.007       0.008\n",
              "pickup_longitude     -0.4393      0.006    -74.171      0.000      -0.451      -0.428\n",
              "pickup_latitude      -0.4808      0.011    -42.122      0.000      -0.503      -0.458\n",
              "dropoff_longitude     0.2161      0.006     38.047      0.000       0.205       0.227\n",
              "dropoff_latitude     -0.6385      0.010    -62.006      0.000      -0.659      -0.618\n",
              "month                 0.0178      0.000     55.435      0.000       0.017       0.018\n",
              "day                   0.0007   6.19e-05     10.729      0.000       0.001       0.001\n",
              "weekday              -0.0063      0.000    -45.347      0.000      -0.007      -0.006\n",
              "hour                  0.0061   8.46e-05     72.132      0.000       0.006       0.006\n",
              "dayofweek            -0.0063      0.000    -45.347      0.000      -0.007      -0.006\n",
              "dist_long            -0.6554      0.008    -82.045      0.000      -0.671      -0.640\n",
              "dist_lat              0.1578      0.011     14.995      0.000       0.137       0.178\n",
              "dist                 -0.9781      0.110     -8.894      0.000      -1.194      -0.763\n",
              "distance              0.1182      0.001    101.227      0.000       0.116       0.120\n",
              "store_N              17.5265      0.536     32.709      0.000      16.476      18.577\n",
              "store_Y              17.5372      0.536     32.730      0.000      16.487      18.587\n",
              "vendor_1             17.5219      0.536     32.701      0.000      16.472      18.572\n",
              "vendor_2             17.5418      0.536     32.738      0.000      16.492      18.592\n",
              "==============================================================================\n",
              "Omnibus:                  2500235.096   Durbin-Watson:                   2.001\n",
              "Prob(Omnibus):                  0.000   Jarque-Bera (JB):     153025119387.090\n",
              "Skew:                         -10.420   Prob(JB):                         0.00\n",
              "Kurtosis:                    1589.627   Cond. No.                     6.01e+17\n",
              "==============================================================================\n",
              "\n",
              "Warnings:\n",
              "[1] Standard Errors assume that the covariance matrix of the errors is correctly specified.\n",
              "[2] The smallest eigenvalue is 5.96e-26. This might indicate that there are\n",
              "strong multicollinearity problems or that the design matrix is singular.\n",
              "\"\"\""
            ]
          },
          "metadata": {},
          "execution_count": 37
        }
      ]
    },
    {
      "cell_type": "markdown",
      "metadata": {
        "id": "D8cTHrdtZcOR"
      },
      "source": [
        "* lightgbm"
      ]
    },
    {
      "cell_type": "code",
      "metadata": {
        "id": "VKeysrThZN6k"
      },
      "source": [
        "import lightgbm as lgbm\n",
        "\n",
        "lgb_params = {\n",
        "    'metric' : 'rmse',\n",
        "    'learning_rate': 0.1,\n",
        "    'max_depth': 25,\n",
        "    'num_leaves': 1000, \n",
        "    'objective': 'regression',\n",
        "    'feature_fraction': 0.9,\n",
        "    'bagging_fraction': 0.5,\n",
        "    'max_bin': 1000 }\n",
        "\n",
        "lgb_df = lgbm.Dataset(new_train,target)"
      ],
      "execution_count": null,
      "outputs": []
    },
    {
      "cell_type": "code",
      "metadata": {
        "id": "XGqycEPNZrwj"
      },
      "source": [
        "lgb_model = lgbm.train(lgb_params, lgb_df, num_boost_round=1500)\n",
        "\n",
        "pred = lgb_model.predict(new_test)\n",
        "\n",
        "pred_lgb = np.exp(pred)"
      ],
      "execution_count": null,
      "outputs": []
    },
    {
      "cell_type": "markdown",
      "metadata": {
        "id": "olJbrIeHbIIH"
      },
      "source": [
        "* XGboost"
      ]
    },
    {
      "cell_type": "code",
      "metadata": {
        "id": "kxFt7Z-9auX7"
      },
      "source": [
        "import xgboost as xgb\n",
        "\n",
        "params = {\n",
        "    'booster':            'gbtree',\n",
        "    'objective':          'reg:linear',\n",
        "    'learning_rate':      0.1,\n",
        "    'max_depth':          14,\n",
        "    'subsample':          0.8,\n",
        "    'colsample_bytree':   0.7,\n",
        "    'colsample_bylevel':  0.7,\n",
        "    'silent':             1\n",
        "}\n",
        "\n",
        "dtrain = xgb.DMatrix(new_train, target)"
      ],
      "execution_count": null,
      "outputs": []
    },
    {
      "cell_type": "code",
      "metadata": {
        "id": "HqTJpmRpbQOD"
      },
      "source": [
        "gbm = xgb.train(params,\n",
        "                dtrain,\n",
        "                num_boost_round = 200)\n",
        "\n",
        "pred_test = np.exp(gbm.predict(xgb.DMatrix(new_test)))"
      ],
      "execution_count": null,
      "outputs": []
    },
    {
      "cell_type": "markdown",
      "metadata": {
        "id": "CrMesdg2bXxX"
      },
      "source": [
        "예측"
      ]
    },
    {
      "cell_type": "markdown",
      "metadata": {
        "id": "ViVDkBsFbj-u"
      },
      "source": [
        "* 앙상블"
      ]
    },
    {
      "cell_type": "code",
      "metadata": {
        "id": "SE9h2rIWbUmC"
      },
      "source": [
        "ensemble_8_2 = (0.8*pred_lgb + 0.4*pred_test)     \n",
        "ensemble_7_3 = (0.7*pred_lgb + 0.3*pred_test)     \n",
        "ensemble_6_4 = (0.6*pred_lgb + 0.4*pred_test)     \n",
        "ensemble_55_45 = (0.55*pred_lgb + 0.45*pred_test) "
      ],
      "execution_count": null,
      "outputs": []
    },
    {
      "cell_type": "code",
      "metadata": {
        "colab": {
          "base_uri": "https://localhost:8080/",
          "height": 144
        },
        "id": "8ZZQZNXucG76",
        "outputId": "0959add1-ea18-4e87-aa33-54113801fd45"
      },
      "source": [
        "# 평가기준 rmsle 가장 낮은 앙상블 모델 사용\n",
        "\n",
        "sub = pd.DataFrame()\n",
        "sub['id'] = test.id\n",
        "sub['trip_duration'] = ensemble_6_4\n",
        "sub.head(3)"
      ],
      "execution_count": null,
      "outputs": [
        {
          "output_type": "execute_result",
          "data": {
            "text/html": [
              "<div>\n",
              "<style scoped>\n",
              "    .dataframe tbody tr th:only-of-type {\n",
              "        vertical-align: middle;\n",
              "    }\n",
              "\n",
              "    .dataframe tbody tr th {\n",
              "        vertical-align: top;\n",
              "    }\n",
              "\n",
              "    .dataframe thead th {\n",
              "        text-align: right;\n",
              "    }\n",
              "</style>\n",
              "<table border=\"1\" class=\"dataframe\">\n",
              "  <thead>\n",
              "    <tr style=\"text-align: right;\">\n",
              "      <th></th>\n",
              "      <th>id</th>\n",
              "      <th>trip_duration</th>\n",
              "    </tr>\n",
              "  </thead>\n",
              "  <tbody>\n",
              "    <tr>\n",
              "      <th>0</th>\n",
              "      <td>id3004672</td>\n",
              "      <td>761.704553</td>\n",
              "    </tr>\n",
              "    <tr>\n",
              "      <th>1</th>\n",
              "      <td>id3505355</td>\n",
              "      <td>552.196600</td>\n",
              "    </tr>\n",
              "    <tr>\n",
              "      <th>2</th>\n",
              "      <td>id1217141</td>\n",
              "      <td>442.543069</td>\n",
              "    </tr>\n",
              "  </tbody>\n",
              "</table>\n",
              "</div>"
            ],
            "text/plain": [
              "          id  trip_duration\n",
              "0  id3004672     761.704553\n",
              "1  id3505355     552.196600\n",
              "2  id1217141     442.543069"
            ]
          },
          "metadata": {},
          "execution_count": 44
        }
      ]
    },
    {
      "cell_type": "code",
      "metadata": {
        "id": "uDR2YrbljOq4"
      },
      "source": [
        ""
      ],
      "execution_count": null,
      "outputs": []
    }
  ]
}